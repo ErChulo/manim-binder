{
  "cells": [
    {
      "cell_type": "code",
      "execution_count": null,
      "metadata": {},
      "outputs": [],
      "source": [
        "%load_ext manim.utils.ipython_magic\\n"
      ]
    },
    {
      "cell_type": "code",
      "execution_count": null,
      "metadata": {},
      "outputs": [],
      "source": [
        "%%manim -qh -v WARNING ActSymbolDemo\\n",
        "from manim import *\\n",
        "\\n",
        "class ActSymbolDemo(Scene):\\n",
        "    def construct(self):\\n",
        "        template = TexTemplate()\\n",
        "        # Load actuarial symbols package into LaTeX preamble\\n",
        "        template.add_to_preamble(r\"\\\\usepackage{actuarialsymbol}\")\\n",
        "        # Define several actuarial formulas\\n",
        "        formulas = [\\n",
        "            Tex(r\"$\\\\ax*{x:n}$\",  tex_template=template, font_size=96),\\n",
        "            Tex(r\"$\\\\ax**{x:n}$\", tex_template=template, font_size=96),\\n",
        "            Tex(r\"$\\\\sx*{x:n}$\",  tex_template=template, font_size=96),\\n",
        "            Tex(r\"$\\\\sx**{x:n}$\", tex_template=template, font_size=96),\\n",
        "        ]\\n",
        "        # Arrange formulas vertically and animate their appearance\\n",
        "        group = VGroup(*formulas).arrange(DOWN, aligned_edge=LEFT)\\n",
        "        self.play(AnimationGroup(*[Write(f) for f in formulas], lag_ratio=0.3))\\n",
        "        self.wait()\\n",
        "        # Shift the group slightly to the left\\n",
        "        self.play(group.animate.to_edge(LEFT))\\n",
        "        self.wait()\\n"
      ]
    }
  ],
  "metadata": {
    "kernelspec": {
      "display_name": "Python 3",
      "language": "python",
      "name": "python3"
    },
    "language_info": {
      "name": "python",
      "version": "3.10"
    }
  },
  "nbformat": 4,
  "nbformat_minor": 5
}
