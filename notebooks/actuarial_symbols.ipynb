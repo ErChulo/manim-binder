{
  "cells": [
    {
      "cell_type": "code",
      "execution_count": null,
      "metadata": {},
      "outputs": [],
      "source": [
        "%load_ext manim.utils.ipython_magic"
      ]
    },
    {
      "cell_type": "code",
      "execution_count": null,
      "metadata": {},
      "outputs": [],
      "source": [
        "%%manim -qh -v WARNING ActSymbolDemo",
        "from manim import *",
        "class ActSymbolDemo(Scene):",
        "    def construct(self):",
        "        template = TexTemplate()",
        "        # Load actuarial symbols package into LaTeX preamble",
        "        template.add_to_preamble(r\"\\\\usepackage{actuarialsymbol}\")",
        "        # Define several actuarial formulas",
        "        formulas = [\\n",
        "            Tex(r\"$\\\\ax*{x:n}$\",  tex_template=template, font_size=96),
        "            Tex(r\"$\\\\ax**{x:n}$\", tex_template=template, font_size=96),
        "            Tex(r\"$\\\\sx*{x:n}$\",  tex_template=template, font_size=96),
        "            Tex(r\"$\\\\sx**{x:n}$\", tex_template=template, font_size=96),
        "        ]
        "        # Arrange formulas vertically and animate their appearance
        "        group = VGroup(*formulas).arrange(DOWN, aligned_edge=LEFT)
        "        self.play(AnimationGroup(*[Write(f) for f in formulas], lag_ratio=0.3))
        "        self.wait()
        "        # Shift the group slightly to the left
        "        self.play(group.animate.to_edge(LEFT))
        "        self.wait()      ]
    }
  ],
  "metadata": {
    "kernelspec": {
      "display_name": "Python 3",
      "language": "python",
      "name": "python3"
    },
    "language_info": {
      "name": "python",
      "version": "3.10"
    }
  },
  "nbformat": 4,
  "nbformat_minor": 5
}
