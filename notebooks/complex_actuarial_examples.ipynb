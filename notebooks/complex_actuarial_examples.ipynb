{
 "cells": [
  {
   "cell_type": "code",
   "execution_count": null,
   "id": "d040ae16",
   "metadata": {},
   "outputs": [],
   "source": [
    "from manim import *"
   ]
  },
  {
   "cell_type": "code",
   "execution_count": null,
   "id": "c5be04ee",
   "metadata": {},
   "outputs": [],
   "source": [
    "%%manim -qh -v WARNING ComplexSymbolDemo1\n",
    "from manim import *\n",
    "class ComplexSymbolDemo1(Scene):\n",
    "    def construct(self):\n",
    "        template = TexTemplate()\n",
    "        template.add_to_preamble(r\"\\usepackage{graphicx}\")\n",
    "        template.add_to_preamble(r\"\\usepackage{actuarialsymbol}\")\n",
    "        # Symbol for A_x,y: independent annuity on lives x and y\n",
    "        sym1 = Tex(r\"$\\Ax{xy}$\", tex_template=template, font_size=72)\n",
    "        text1 = Text(\"Two lives x and y: joint life annuity\", font_size=36).next_to(sym1, DOWN)\n",
    "        self.play(Write(sym1), Write(text1))\n",
    "        self.wait()\n",
    "        # Symbol for A_{joint{xy}}: joint survival function for lives x and y\n",
    "        sym2 = Tex(r\"$\\Ax{\\joint{xy}}$\", tex_template=template, font_size=72).next_to(sym1, RIGHT, buff=2)\n",
    "        text2 = Text(\"Joint life function for x and y\", font_size=36).next_to(sym2, DOWN)\n",
    "        self.play(Write(sym2), Write(text2))\n",
    "        self.wait()\n"
   ]
  },
  {
   "cell_type": "code",
   "execution_count": null,
   "id": "ce486302",
   "metadata": {},
   "outputs": [],
   "source": [
    "%%manim -qh -v WARNING ComplexSymbolDemo2\n",
    "from manim import *\n",
    "class ComplexSymbolDemo2(Scene):\n",
    "    def construct(self):\n",
    "        template = TexTemplate()\n",
    "        template.add_to_preamble(r\"\\usepackage{graphicx}\")\n",
    "        template.add_to_preamble(r\"\\usepackage{actuarialsymbol}\")\n",
    "        # m-year deferred annuity for two lives x and y\n",
    "        sym1 = Tex(r\"$\\Ax{xy}{(m)}$\", tex_template=template, font_size=72)\n",
    "        desc1 = Text(\"Deferred m-year annuity on x and y\", font_size=36).next_to(sym1, DOWN)\n",
    "        self.play(Write(sym1), Write(desc1))\n",
    "        self.wait()\n",
    "        # star variant indicates annuity due vs immediate\n",
    "        sym2 = Tex(r\"$\\Ax*{xy}{(m)}$\", tex_template=template, font_size=72).next_to(sym1, RIGHT, buff=2)\n",
    "        desc2 = Text(\"Annuity due variant\", font_size=36).next_to(sym2, DOWN)\n",
    "        self.play(Write(sym2), Write(desc2))\n",
    "        self.wait()\n"
   ]
  },
  {
   "cell_type": "code",
   "execution_count": null,
   "id": "d49cb688",
   "metadata": {},
   "outputs": [],
   "source": [
    "%%manim -qh -v WARNING ComplexSymbolDemo3\n",
    "from manim import *\n",
    "class ComplexSymbolDemo3(Scene):\n",
    "    def construct(self):\n",
    "        template = TexTemplate()\n",
    "        template.add_to_preamble(r\"\\usepackage{graphicx}\")\n",
    "        template.add_to_preamble(r\"\\usepackage{actuarialsymbol}\")\n",
    "        # kAS symbol\n",
    "        sym1 = Tex(r\"$\\actsymb[k]{\\mathit{AS}}$\", tex_template=template, font_size=72)\n",
    "        note1 = Text(\"Example: k=3 gives value 15.27\", font_size=32).next_to(sym1, DOWN)\n",
    "        self.play(Write(sym1), Write(note1))\n",
    "        self.wait()\n",
    "        # kÂS symbol (with hat)\n",
    "        sym2 = Tex(r\"$\\actsymb[k]{\\widehat{\\mathit{AS}}}$\", tex_template=template, font_size=72).next_to(sym1, RIGHT, buff=2)\n",
    "        note2 = Text(\"Example: k=5 yields 9.03\", font_size=32).next_to(sym2, DOWN)\n",
    "        self.play(Write(sym2), Write(note2))\n",
    "        self.wait()\n"
   ]
  },
  {
   "cell_type": "code",
   "execution_count": null,
   "id": "5440dcfb",
   "metadata": {},
   "outputs": [],
   "source": [
    "%%manim -qh -v WARNING ComplexSymbolDemo4\n",
    "from manim import *\n",
    "class ComplexSymbolDemo4(Scene):\n",
    "    def construct(self):\n",
    "        template = TexTemplate()\n",
    "        template.add_to_preamble(r\"\\usepackage{graphicx}\")\n",
    "        template.add_to_preamble(r\"\\usepackage{actuarialsymbol}\")\n",
    "        # Two-letter actuarial symbol with optional parameters\n",
    "        sym = Tex(r\"$\\twoletsymb[Opt]{A}{S}_{x + h}$\", tex_template=template, font_size=72)\n",
    "        desc = Text(\"A combined annuity and insurance symbol with offset\", font_size=32).next_to(sym, DOWN)\n",
    "        self.play(Write(sym), Write(desc))\n",
    "        self.wait()\n"
   ]
  },
  {
   "cell_type": "code",
   "execution_count": null,
   "id": "b9edee8d",
   "metadata": {},
   "outputs": [],
   "source": [
    "%%manim -qh -v WARNING ComplexSymbolDemo5\n",
    "from manim import *\n",
    "class ComplexSymbolDemo5(Scene):\n",
    "    def construct(self):\n",
    "        template = TexTemplate()\n",
    "        template.add_to_preamble(r\"\\usepackage{graphicx}\")\n",
    "        template.add_to_preamble(r\"\\usepackage{actuarialsymbol}\")\n",
    "        # Immediate vs due whole life annuity symbol for x:n\n",
    "        sym1 = Tex(r\"$\\Ax*{x:\\angln}$\", tex_template=template, font_size=72)\n",
    "        text1 = Text(\"Whole life annuity-due for (x:n) yields PV = 1000\", font_size=28).next_to(sym1, DOWN)\n",
    "        self.play(Write(sym1), Write(text1))\n",
    "        self.wait()\n",
    "        sym2 = Tex(r\"$\\Ax**{x:\\angln}$\", tex_template=template, font_size=72).next_to(sym1, RIGHT, buff=2)\n",
    "        text2 = Text(\"Whole life annuity-immediate PV = 950\", font_size=28).next_to(sym2, DOWN)\n",
    "        self.play(Write(sym2), Write(text2))\n",
    "        self.wait()\n"
   ]
  }
 ],
 "metadata": {},
 "nbformat": 4,
 "nbformat_minor": 5
}
