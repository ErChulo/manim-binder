{
 "cells": [
  {
   "cell_type": "code",
   "execution_count": null,
   "metadata": {},
   "outputs": [],
   "source": [
    "%load_ext manim.utils.ipython_magic\n",
    "import manim, sys, platform\n",
    "print('Manim:', manim.__version__)\n",
    "print('Python:', sys.version.split()[0])\n",
    "print('Platform:', platform.platform())"
   ]
  },
  {
   "cell_type": "code",
   "execution_count": null,
   "metadata": {},
   "outputs": [],
   "source": [
    "%%manim -qm -v WARNING SquareToCircle\n",
    "from manim import *\n",
    "\n",
    "class SquareToCircle(Scene):\n",
    "    def construct(self):\n",
    "        s = Square()\n",
    "        self.play(Create(s))\n",
    "        self.play(Transform(s, Circle()))\n",
    "        self.play(FadeOut(s))\n"
   ]
  }
 ],
 "metadata": {
  "kernelspec": { "display_name": "Python 3", "language": "python", "name": "python3" },
  "language_info": { "name": "python", "version": "3.10" }
 },
 "nbformat": 4,
 "nbformat_minor": 5
}
