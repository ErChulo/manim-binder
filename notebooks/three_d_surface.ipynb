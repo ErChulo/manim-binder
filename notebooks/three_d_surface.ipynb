{
 "cells": [
  { "cell_type": "code", "execution_count": null, "metadata": {}, "outputs": [],
    "source": ["%load_ext manim.utils.ipython_magic"] },
  { "cell_type": "code", "execution_count": null, "metadata": {}, "outputs": [],
    "source": [
      "%%manim -qh -v WARNING SurfDemo\n",
      "from manim import *\n",
      "import numpy as np\n",
      "\n",
      "class SurfDemo(ThreeDScene):\n",
      "    def construct(self):\n",
      "        self.set_camera_orientation(phi=70*DEGREES, theta=30*DEGREES)\n",
      "        ax = ThreeDAxes()\n",
      "        surf = Surface(lambda u, v: np.array([u, v, 0.2*np.sin(u)*np.cos(v)]),\n",
      "                       u_range=[-3,3], v_range=[-3,3], resolution=(32,32))\n",
      "        self.add(ax)\n",
      "        self.play(Create(surf))\n",
      "        self.begin_ambient_camera_rotation(rate=0.2)\n",
      "        self.wait(3)\n"
    ] }
 ],
 "metadata": {
  "kernelspec": { "display_name": "Python 3", "language": "python", "name": "python3" },
  "language_info": { "name": "python", "version": "3.10" }
 },
 "nbformat": 4,
 "nbformat_minor": 5
}
