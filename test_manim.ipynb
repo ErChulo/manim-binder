{
 "cells": [
  {
   "cell_type": "markdown",
   "metadata": {},
   "source": [
    "# Manim Test Notebook\n",
    "\n",
    "This notebook tests that Manim is working correctly in the Binder environment."
   ]
  },
  {
   "cell_type": "code",
   "execution_count": null,
   "metadata": {},
   "outputs": [],
   "source": [
    "from manim import *\n",
    "import numpy as np\n",
    "\n",
    "# Check manim version\n",
    "print(f\"Manim version: {__version__}\")"
   ]
  },
  {
   "cell_type": "code",
   "execution_count": null,
   "metadata": {},
   "outputs": [],
   "source": [
    "%%manim -qm -v WARNING HelloWorld\n",
    "\n",
    "class HelloWorld(Scene):\n",
    "    def construct(self):\n",
    "        text = Text(\"¡Hola, Manim!\", font_size=48)\n",
    "        self.play(Write(text))\n",
    "        self.wait(2)\n",
    "        self.play(FadeOut(text))"
   ]
  },
  {
   "cell_type": "code",
   "execution_count": null,
   "metadata": {},
   "outputs": [],
   "source": [
    "%%manim -qm -v WARNING SimpleEquation\n",
    "\n",
    "class SimpleEquation(Scene):\n",
    "    def construct(self):\n",
    "        equation = MathTex(r\"E = mc^2\")\n",
    "        equation.scale(2)\n",
    "        self.play(Write(equation))\n",
    "        self.wait(2)"
   ]
  },
  {
   "cell_type": "code",
   "execution_count": null,
   "metadata": {},
   "outputs": [],
   "source": [
    "%%manim -qm -v WARNING MovingShapes\n",
    "\n",
    "class MovingShapes(Scene):\n",
    "    def construct(self):\n",
    "        circle = Circle()\n",
    "        square = Square()\n",
    "        triangle = Triangle()\n",
    "        \n",
    "        # Position shapes\n",
    "        circle.shift(LEFT * 2)\n",
    "        triangle.shift(RIGHT * 2)\n",
    "        \n",
    "        # Colors\n",
    "        circle.set_fill(BLUE, opacity=0.7)\n",
    "        square.set_fill(GREEN, opacity=0.7)\n",
    "        triangle.set_fill(RED, opacity=0.7)\n",
    "        \n",
    "        # Animation\n",
    "        self.play(\n",
    "            Create(circle),\n",
    "            Create(square),\n",
    "            Create(triangle)\n",
    "        )\n",
    "        self.wait(1)\n",
    "        \n",
    "        self.play(\n",
    "            circle.animate.shift(RIGHT * 4),\n",
    "            triangle.animate.shift(LEFT * 4)\n",
    "        )\n",
    "        self.wait(2)"
   ]
  }
 ],
 "metadata": {
  "kernelspec": {
   "display_name": "Python 3",
   "language": "python",
   "name": "python3"
  },
  "language_info": {
   "codemirror_mode": {
    "name": "ipython",
    "version": 3
   },
   "file_extension": ".py",
   "mimetype": "text/x-python",
   "name": "python",
   "nbconvert_exporter": "python",
   "pygments_lexer": "ipython3",
   "version": "3.10.0"
  }
 },
 "nbformat": 4,
 "nbformat_minor": 4
}
